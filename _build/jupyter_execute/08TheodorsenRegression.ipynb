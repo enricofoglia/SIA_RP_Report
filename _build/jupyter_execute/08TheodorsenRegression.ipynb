{
 "cells": [
  {
   "cell_type": "markdown",
   "id": "4ab85324",
   "metadata": {},
   "source": [
    "# Identify the Theodorsen unsteady lift\n",
    "\n",
    "## Data generation\n",
    "\n",
    "As for the previous case the data is generated through a python script. Since the objective is to identify the Theodorsen function through its input-output response the classical model for a monochromatic oscillation cannot be used, since a wide spectrum input has to be prefered. The data-generation code uses then a linear approximation of the Theodorsen function obtained by balanced truncation in {cite}`brunton2013empirical`. "
   ]
  },
  {
   "cell_type": "code",
   "execution_count": 1,
   "id": "628d714b",
   "metadata": {},
   "outputs": [],
   "source": [
    "import numpy as np\n",
    "import control\n",
    "import Theodorsen_control as theodorsen # our library for working with Theodorsen model LTI approximations\n",
    "from signals import prbs # our library of identification signals\n",
    "\n",
    "a = 1/2  # pitch axis wrt to 1/2-chord\n",
    "b = 1.  # half-chord length of the airfoil\n",
    "# default values of C_1 and C_2 used\n",
    "airfoil = theodorsen.AirfoilGeometry(a=a, b=b)\n",
    "\n",
    "# THEDORSEN MODEL\n",
    "\n",
    "# the balanced truncation Theodorsen function approximation\n",
    "theodorsen_function_sys = theodorsen.theodorsen_function_balanced_truncation_ss()\n",
    "\n",
    "# state-space system with both α\" and h\" as inputs\n",
    "theodorsen_full_sys = theodorsen.unsteady_lift_ss(\n",
    "    airfoil, theodorsen_function_sys)\n",
    "\n",
    "# INPUT SIGNALS\n",
    "\n",
    "NT = 20000 # number of time steps\n",
    "t = np.linspace(0, 1, NT)\n",
    "dt = 400 * t[-1] / NT\n",
    "\n",
    "amplitude= 0.2\n",
    "\n",
    "alpha_ddot = prbs(t, dt, min = -amplitude, max = amplitude)\n",
    "h_ddot = prbs(t, 2 * dt, min = -amplitude, max = amplitude)\n",
    "u_MISO = np.vstack((h_ddot.T, alpha_ddot.T))\n",
    "\n",
    "# TIME RESPONSE\n",
    "\n",
    "X0 = np.array([0,0,0,0,\n",
    "              0.0,   # h_dot(0)\n",
    "              0.05, # alpha(0)\n",
    "              0.0])   # alpha_dot(0)\n",
    "\n",
    "output = control.forced_response(\n",
    "    theodorsen_full_sys, T=t, U=u_MISO, X0 = X0)\n",
    "\n",
    "# TIME RESPONSE POSTPROCESSING\n",
    "\n",
    "data = theodorsen.TheodorsenTimeResponse(\n",
    "    output, inputs='both', sys=theodorsen_full_sys)\n"
   ]
  },
  {
   "cell_type": "markdown",
   "id": "a894e66d",
   "metadata": {},
   "source": [
    "## Model regression\n",
    "\n",
    "As stated in <span style=\"color: red;\">section</span> we want to fit a model in the form:\n",
    "```{math}\n",
    "    C_L(t) = \\Theta(t)\\xi\n",
    "```\n",
    "where $\\Theta$ is a library of linear and nonlinear functions and $\\xi$ are the corresponding coefficients. The data obtained in the previous section is divided equally between a training set and a test set, such that"
   ]
  },
  {
   "cell_type": "code",
   "execution_count": 2,
   "id": "6a03cc4d",
   "metadata": {},
   "outputs": [],
   "source": [
    "# Training set\n",
    "X_train = np.stack([data.alpha_e[:NT // 2],\n",
    "                    data.alpha_dot[:NT // 2]] , axis = -1) # physical states of the system\n",
    "CL_train = data.C_L[:NT // 2] # output of the system\n",
    "\n",
    "# Test set\n",
    "X_test = np.stack([data.alpha_e[NT // 2:],\n",
    "                   data.alpha_dot[NT // 2:]], axis = -1)\n",
    "CL_test = data.C_L[NT // 2:]"
   ]
  },
  {
   "cell_type": "markdown",
   "id": "15151a6f",
   "metadata": {},
   "source": [
    "Since we know that the possibly nonlinear part of the Theodorsen model lies in the circulatory lift only, and that in general the added mass term behaves linearly, we decided to only fit the first one, assumng as a first moment that the added mass coefficients are known."
   ]
  },
  {
   "cell_type": "code",
   "execution_count": 3,
   "id": "dd2bc91b",
   "metadata": {},
   "outputs": [],
   "source": [
    "ttt = theodorsen_full_sys.D @ u_MISO[:,NT // 2:]\n"
   ]
  },
  {
   "cell_type": "code",
   "execution_count": 4,
   "id": "3c5def95",
   "metadata": {},
   "outputs": [],
   "source": [
    "CL_train -= (theodorsen_full_sys.D @ u_MISO[:,NT // 2:]).T\n",
    "CL_test -= (theodorsen_full_sys.D @ u_MISO[:, :NT // 2]).T"
   ]
  },
  {
   "cell_type": "markdown",
   "id": "5c7bfea0",
   "metadata": {},
   "source": [
    "Since SINDy is based on the machine learning library `sklearn` it is possible to substitute the derivatives of the classical SINDy models with the $C_l$ without any modification of the underlying code. The set up for the regression is then:"
   ]
  },
  {
   "cell_type": "code",
   "execution_count": 5,
   "id": "5af69bce",
   "metadata": {},
   "outputs": [
    {
     "name": "stdout",
     "output_type": "stream",
     "text": [
      "(alpha_e)' = -449.590 1 + 30567.661 alpha_e + -8827.267 alpha_dot + -758554.805 alpha_e^2 + 533415.911 alpha_e alpha_dot + -213739.447 alpha_dot^2 + 8138538.209 alpha_e^3 + -10354506.534 alpha_e^2 alpha_dot + 7850169.030 alpha_e alpha_dot^2 + 2485179.215 alpha_dot^3 + -31920130.556 alpha_e^4 + 63153975.821 alpha_e^3 alpha_dot + -75463413.800 alpha_e^2 alpha_dot^2 + 6122807.959 alpha_e alpha_dot^3 + 200298271.054 alpha_dot^4\n"
     ]
    }
   ],
   "source": [
    "import pysindy as ps\n",
    "\n",
    "expansionDegree = 4\n",
    "\n",
    "# SETTING UP SINDy \n",
    "optimizer = ps.optimizers.stlsq.STLSQ(threshold = 0.1, alpha = 1e-06, max_iter = 50)\n",
    "library = ps.feature_library.polynomial_library.PolynomialLibrary(degree = expansionDegree) # standard polynomial library\n",
    "\n",
    "model = ps.SINDy(optimizer = optimizer, \n",
    "\t\t\t     feature_library = library,\n",
    "\t\t\t     feature_names = ['alpha_e', 'alpha_dot']) \n",
    "t = data.t\n",
    "classicalModel = model.fit(X_train, t = t[1] - t[0], x_dot = CL_train)\n",
    "classicalModel.print()"
   ]
  },
  {
   "cell_type": "markdown",
   "id": "a50eed60",
   "metadata": {},
   "source": [
    "The results for the classical polynomial library can be compared with those for an orthogonal and othonormal base"
   ]
  },
  {
   "cell_type": "code",
   "execution_count": 6,
   "id": "0d7bf0c1",
   "metadata": {},
   "outputs": [
    {
     "name": "stdout",
     "output_type": "stream",
     "text": [
      "-------- Orthogonal  model --------\n",
      "\n",
      "(alpha_e)' = -1.884 f0() + -1.862 f1(alpha_e,alpha_dot) + 0.406 f2(alpha_e,alpha_dot) + -1.249 f3(alpha_e,alpha_dot) + 1.543 f4(alpha_e,alpha_dot) + -0.862 f5(alpha_e,alpha_dot) + -1.141 f6(alpha_e,alpha_dot) + 2.085 f7(alpha_e,alpha_dot) + 0.157 f8(alpha_e,alpha_dot) + -0.699 f9(alpha_e,alpha_dot) + 0.142 f10(alpha_e,alpha_dot) + -0.326 f12(alpha_e,alpha_dot) + 0.621 f13(alpha_e,alpha_dot) + -0.842 f14(alpha_e,alpha_dot)\n",
      "\n",
      "-------- Orthonormal model --------\n",
      "\n",
      "(alpha_e)' = -1.884 f0() + -1.862 f1(alpha_e,alpha_dot) + 0.406 f2(alpha_e,alpha_dot) + -1.249 f3(alpha_e,alpha_dot) + 1.543 f4(alpha_e,alpha_dot) + -0.862 f5(alpha_e,alpha_dot) + -1.141 f6(alpha_e,alpha_dot) + 2.085 f7(alpha_e,alpha_dot) + 0.157 f8(alpha_e,alpha_dot) + -0.699 f9(alpha_e,alpha_dot) + 0.142 f10(alpha_e,alpha_dot) + -0.326 f12(alpha_e,alpha_dot) + 0.621 f13(alpha_e,alpha_dot) + -0.842 f14(alpha_e,alpha_dot)\n"
     ]
    }
   ],
   "source": [
    "from PolynomialChaos import *\n",
    "\n",
    "aPC = PolynomialChaos(\n",
    "     X_train,\n",
    "     expansionDegree = expansionDegree,\n",
    "     numberOfInputs = 2)\n",
    "aPC.ComputeCoefficients(threshold =0.01, normalize = False)\n",
    "coefficients = aPC.coefficients\n",
    "AlphaMatrix = aPC.AlphaMatrix\n",
    " \n",
    "LibraryList = GenerateLibraryList(\n",
    "     expansionDegree=expansionDegree,\n",
    "     coefficients = coefficients,\n",
    "     AlphaMatrix = AlphaMatrix)\n",
    "\n",
    "aPC_norm = PolynomialChaos(\n",
    "     X_train,\n",
    "     expansionDegree = expansionDegree,\n",
    "     numberOfInputs = 2)\n",
    "aPC_norm.ComputeCoefficients(threshold =0.01, normalize = True)\n",
    "coefficients_norm = aPC_norm.coefficients\n",
    " \n",
    "LibraryList_norm = GenerateLibraryList(\n",
    "     expansionDegree=expansionDegree,\n",
    "     coefficients = coefficients_norm,\n",
    "     AlphaMatrix = AlphaMatrix)\n",
    "\n",
    "optimizer = ps.optimizers.stlsq.STLSQ(threshold = 0.1, alpha = 1e-06, max_iter = 50)\n",
    "library_orth = ps.feature_library.custom_library.CustomLibrary(LibraryList)\n",
    "library_orthnorm = ps.feature_library.custom_library.CustomLibrary(LibraryList_norm)\n",
    "\n",
    "model = ps.SINDy(optimizer = optimizer, \n",
    "\t\t\t     feature_library = library_orth,\n",
    "\t\t\t     feature_names = ['alpha_e', 'alpha_dot']) \n",
    "OrthModel = model.fit(X_train, t = t[1] - t[0], x_dot = CL_train) # Orthogonal model\n",
    "\n",
    "model = ps.SINDy(optimizer = optimizer, \n",
    "\t\t\t     feature_library = library_orthnorm,\n",
    "\t\t\t     feature_names = ['alpha_e', 'alpha_dot']) \n",
    "OrthNormModel = model.fit(X_train, t = t[1] - t[0], x_dot = CL_train) # Orthonormal model\n",
    "\n",
    "print('-------- Orthogonal  model --------\\n')\n",
    "OrthModel.print()\n",
    "print('\\n-------- Orthonormal model --------\\n')\n",
    "OrthNormModel.print()"
   ]
  },
  {
   "cell_type": "code",
   "execution_count": null,
   "id": "458fdf83",
   "metadata": {},
   "outputs": [],
   "source": []
  }
 ],
 "metadata": {
  "kernelspec": {
   "display_name": "Python 3",
   "language": "python",
   "name": "python3"
  },
  "language_info": {
   "codemirror_mode": {
    "name": "ipython",
    "version": 3
   },
   "file_extension": ".py",
   "mimetype": "text/x-python",
   "name": "python",
   "nbconvert_exporter": "python",
   "pygments_lexer": "ipython3",
   "version": "3.8.13"
  }
 },
 "nbformat": 4,
 "nbformat_minor": 5
}